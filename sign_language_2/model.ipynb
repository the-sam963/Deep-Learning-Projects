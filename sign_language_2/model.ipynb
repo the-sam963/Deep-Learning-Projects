{
 "cells": [
  {
   "cell_type": "markdown",
   "metadata": {},
   "source": [
    "# Imports"
   ]
  },
  {
   "cell_type": "code",
   "execution_count": 1,
   "metadata": {},
   "outputs": [],
   "source": [
    "import tensorflow as tf\n",
    "from tensorflow import keras\n",
    "from sklearn.model_selection import train_test_split\n",
    "import numpy as np\n",
    "import pandas as pd\n",
    "import seaborn as sn\n",
    "import matplotlib.pyplot as plt\n",
    "%matplotlib inline"
   ]
  },
  {
   "cell_type": "markdown",
   "metadata": {},
   "source": [
    "# Processing Data "
   ]
  },
  {
   "cell_type": "code",
   "execution_count": 2,
   "metadata": {},
   "outputs": [],
   "source": [
    "df = pd.read_csv(\"data.csv\")"
   ]
  },
  {
   "cell_type": "code",
   "execution_count": 3,
   "metadata": {},
   "outputs": [
    {
     "data": {
      "text/plain": [
       "(34627, 785)"
      ]
     },
     "execution_count": 3,
     "metadata": {},
     "output_type": "execute_result"
    }
   ],
   "source": [
    "df.shape"
   ]
  },
  {
   "cell_type": "code",
   "execution_count": 4,
   "metadata": {},
   "outputs": [],
   "source": [
    "x = np.array(df.drop(['label'], axis=1))\n",
    "y = np.array(df['label'])"
   ]
  },
  {
   "cell_type": "code",
   "execution_count": 5,
   "metadata": {},
   "outputs": [],
   "source": [
    "x_train, x_test, y_train, y_test = train_test_split(x,y, test_size=0.15)"
   ]
  },
  {
   "cell_type": "code",
   "execution_count": 6,
   "metadata": {},
   "outputs": [
    {
     "data": {
      "text/plain": [
       "(5195, 784)"
      ]
     },
     "execution_count": 6,
     "metadata": {},
     "output_type": "execute_result"
    }
   ],
   "source": [
    "x_test.shape                                        # 784 => 28 * 28"
   ]
  },
  {
   "cell_type": "code",
   "execution_count": 7,
   "metadata": {},
   "outputs": [
    {
     "data": {
      "text/plain": [
       "array([ 0,  1,  2,  3,  4,  5,  6,  7,  8, 10, 11, 12, 13, 14, 15, 16, 17,\n",
       "       18, 19, 20, 21, 22, 23, 24], dtype=int64)"
      ]
     },
     "execution_count": 7,
     "metadata": {},
     "output_type": "execute_result"
    }
   ],
   "source": [
    "np.unique(y_train)                                  #Showing Labels"
   ]
  },
  {
   "cell_type": "code",
   "execution_count": 8,
   "metadata": {},
   "outputs": [],
   "source": [
    "labels = ['a', 'b', 'c', 'd', 'e', 'f', 'g', 'h', 'i', 'k', 'l', 'm', 'n', 'o', 'p', 'q', 'r', 's', 't', 'u', 'v', 'w', 'x', 'y']\n",
    "#index = [ 0,   1,   2,   3,   4,   5,   6,   7,   8,   10,  11,  12,  13,  14,  15,  16,  17,  18,  19,  20,  21,  22,  23,  24] "
   ]
  },
  {
   "cell_type": "code",
   "execution_count": 9,
   "metadata": {},
   "outputs": [
    {
     "data": {
      "text/plain": [
       "<matplotlib.image.AxesImage at 0x2b9b4f25540>"
      ]
     },
     "execution_count": 9,
     "metadata": {},
     "output_type": "execute_result"
    },
    {
     "data": {
      "image/png": "[encoded data removed]",
      "text/plain": [
       "<Figure size 432x288 with 1 Axes>"
      ]
     },
     "metadata": {
      "needs_background": "light"
     },
     "output_type": "display_data"
    }
   ],
   "source": [
    "plt.imshow(x_train[45].reshape(28,28))          #Ploling a sample Image "
   ]
  },
  {
   "cell_type": "code",
   "execution_count": 10,
   "metadata": {},
   "outputs": [
    {
     "data": {
      "text/plain": [
       "array([194, 195, 195, 195, 194, 194, 195, 196, 196, 195, 195, 195, 195,\n",
       "       196, 197, 196, 195, 194, 193, 193, 193, 192, 192, 191, 188, 155,\n",
       "       110, 111, 195, 196, 196, 196, 195, 195, 196, 197, 198, 198, 197,\n",
       "       196, 197, 197, 197, 197, 197, 195, 192, 189, 185, 182, 190, 192,\n",
       "       191, 168, 135, 155, 196, 197, 198, 197, 196, 197, 197, 198, 199,\n",
       "       199, 199, 198, 198, 197, 199, 203, 207, 201, 191, 181, 159, 147,\n",
       "       183, 194, 192, 165, 150, 180, 198, 199, 200, 199, 199, 199, 199,\n",
       "       200, 200, 200, 200, 200, 199, 201, 207, 212, 205, 178, 162, 158,\n",
       "       142, 148, 187, 195, 193, 169, 165, 187, 200, 200, 200, 200, 200,\n",
       "       200, 200, 200, 201, 200, 200, 200, 203, 211, 210, 191, 169, 138,\n",
       "       145, 163, 172, 185, 195, 196, 195, 181, 172, 165, 200, 200, 200,\n",
       "       201, 201, 201, 200, 200, 201, 201, 201, 203, 213, 219, 191, 141,\n",
       "       137, 158, 184, 194, 196, 197, 198, 197, 196, 191, 170, 135, 200,\n",
       "       200, 201, 202, 202, 202, 201, 201, 202, 202, 202, 209, 220, 216,\n",
       "       170, 127, 164, 191, 199, 199, 198, 198, 200, 199, 198, 195, 173,\n",
       "       133, 201, 201, 201, 202, 202, 202, 203, 203, 203, 203, 204, 213,\n",
       "       217, 210, 185, 175, 190, 179, 188, 194, 184, 186, 199, 200, 199,\n",
       "       197, 185, 161, 201, 201, 202, 203, 203, 203, 203, 201, 197, 198,\n",
       "       202, 209, 205, 191, 200, 203, 194, 155, 156, 179, 168, 164, 196,\n",
       "       201, 200, 200, 195, 184, 202, 202, 202, 203, 204, 204, 204, 196,\n",
       "       184, 181, 191, 200, 194, 169, 190, 194, 182, 141, 121, 159, 157,\n",
       "       150, 195, 202, 201, 200, 199, 196, 203, 203, 204, 204, 205, 207,\n",
       "       212, 208, 192, 174, 175, 182, 188, 180, 194, 199, 183, 135,  99,\n",
       "       121, 130, 137, 193, 203, 202, 201, 201, 201, 203, 203, 204, 205,\n",
       "       205, 209, 218, 221, 212, 195, 183, 174, 172, 163, 163, 172, 171,\n",
       "       141,  96,  86,  97, 114, 179, 203, 203, 202, 202, 201, 202, 202,\n",
       "       203, 204, 205, 206, 216, 226, 218, 206, 187, 167, 171, 172, 161,\n",
       "       153, 144, 130, 105,  78,  82,  94, 152, 201, 203, 202, 202, 202,\n",
       "       202, 202, 203, 204, 205, 203, 213, 225, 218, 206, 173, 140, 142,\n",
       "       166, 166, 152, 129, 107, 106,  82,  76,  90, 145, 199, 203, 202,\n",
       "       202, 201, 203, 203, 204, 205, 205, 203, 214, 225, 224, 208, 157,\n",
       "       113, 100, 130, 151, 136, 106,  97, 110,  87,  75, 103, 169, 201,\n",
       "       202, 202, 201, 200, 204, 204, 205, 206, 205, 203, 215, 227, 226,\n",
       "       203, 154, 102,  73, 113, 146, 115,  83, 105, 120,  92,  82, 136,\n",
       "       193, 203, 203, 202, 201, 200, 203, 204, 205, 206, 205, 202, 217,\n",
       "       229, 220, 191, 150, 105,  71, 109, 123,  83,  71, 116, 120,  91,\n",
       "       104, 174, 204, 204, 203, 202, 202, 201, 203, 204, 206, 207, 204,\n",
       "       203, 219, 227, 211, 180, 144, 106,  71,  93,  92,  56,  79, 119,\n",
       "       105,  89, 140, 197, 206, 205, 204, 203, 202, 201, 202, 204, 205,\n",
       "       206, 203, 207, 222, 223, 201, 172, 141, 106,  71,  83,  74,  56,\n",
       "        97, 110,  88, 103, 175, 205, 206, 205, 205, 204, 203, 202, 177,\n",
       "       180, 183, 185, 188, 206, 221, 214, 189, 164, 140, 109,  74,  77,\n",
       "        69,  65,  98,  96,  86, 131, 193, 205, 204, 204, 204, 203, 202,\n",
       "       201, 120, 121, 122, 124, 147, 200, 214, 203, 177, 156, 140, 111,\n",
       "        75,  71,  75,  81,  90,  87,  92, 133, 163, 167, 169, 171, 172,\n",
       "       175, 179, 184, 102, 103, 103, 102, 132, 195, 207, 194, 168, 157,\n",
       "       149, 113,  79,  70,  83,  97,  96,  89,  92, 102, 108, 111, 113,\n",
       "       118, 128, 146, 167, 184, 103, 104, 104, 104, 137, 194, 202, 189,\n",
       "       170, 167, 157, 116,  88,  79,  91, 101,  99,  96, 101, 105, 110,\n",
       "       119, 136, 157, 175, 192, 206, 214, 104, 104, 105, 105, 144, 200,\n",
       "       204, 195, 180, 175, 160, 123,  96,  85,  91,  97,  98, 107, 124,\n",
       "       143, 163, 181, 194, 200, 205, 211, 218, 222, 105, 105, 106, 108,\n",
       "       158, 210, 212, 205, 191, 179, 156, 122,  98,  88,  90,  96, 115,\n",
       "       156, 179, 188, 193, 198, 204, 205, 203, 206, 215, 221, 104, 105,\n",
       "       105, 114, 178, 215, 213, 209, 194, 168, 138, 109,  96,  91,  93,\n",
       "       114, 165, 204, 211, 200, 186, 182, 188, 200, 205, 202, 206, 212,\n",
       "       103, 104, 105, 128, 197, 213, 205, 201, 178, 143, 115,  99,  95,\n",
       "        94, 114, 160, 192, 198, 200, 200, 188, 172, 171, 181, 190, 197,\n",
       "       201, 203, 102, 104, 108, 154, 210, 208, 196, 186, 158, 123, 102,\n",
       "        96,  94, 102, 153, 186, 184, 178, 176, 188, 191, 170, 153, 164,\n",
       "       178, 191, 200, 203], dtype=int64)"
      ]
     },
     "execution_count": 10,
     "metadata": {},
     "output_type": "execute_result"
    }
   ],
   "source": [
    "x_train[45]                                 #Showing a sample array of Image "
   ]
  },
  {
   "cell_type": "code",
   "execution_count": 11,
   "metadata": {},
   "outputs": [],
   "source": [
    "# Normalizing Array\n",
    "\n",
    "x_train = x_train / 255\n",
    "x_test = x_test / 255"
   ]
  },
  {
   "cell_type": "code",
   "execution_count": 12,
   "metadata": {},
   "outputs": [
    {
     "data": {
      "text/plain": [
       "array([0.76078431, 0.76470588, 0.76470588, 0.76470588, 0.76078431,\n",
       "       0.76078431, 0.76470588, 0.76862745, 0.76862745, 0.76470588,\n",
       "       0.76470588, 0.76470588, 0.76470588, 0.76862745, 0.77254902,\n",
       "       0.76862745, 0.76470588, 0.76078431, 0.75686275, 0.75686275,\n",
       "       0.75686275, 0.75294118, 0.75294118, 0.74901961, 0.7372549 ,\n",
       "       0.60784314, 0.43137255, 0.43529412, 0.76470588, 0.76862745,\n",
       "       0.76862745, 0.76862745, 0.76470588, 0.76470588, 0.76862745,\n",
       "       0.77254902, 0.77647059, 0.77647059, 0.77254902, 0.76862745,\n",
       "       0.77254902, 0.77254902, 0.77254902, 0.77254902, 0.77254902,\n",
       "       0.76470588, 0.75294118, 0.74117647, 0.7254902 , 0.71372549,\n",
       "       0.74509804, 0.75294118, 0.74901961, 0.65882353, 0.52941176,\n",
       "       0.60784314, 0.76862745, 0.77254902, 0.77647059, 0.77254902,\n",
       "       0.76862745, 0.77254902, 0.77254902, 0.77647059, 0.78039216,\n",
       "       0.78039216, 0.78039216, 0.77647059, 0.77647059, 0.77254902,\n",
       "       0.78039216, 0.79607843, 0.81176471, 0.78823529, 0.74901961,\n",
       "       0.70980392, 0.62352941, 0.57647059, 0.71764706, 0.76078431,\n",
       "       0.75294118, 0.64705882, 0.58823529, 0.70588235, 0.77647059,\n",
       "       0.78039216, 0.78431373, 0.78039216, 0.78039216, 0.78039216,\n",
       "       0.78039216, 0.78431373, 0.78431373, 0.78431373, 0.78431373,\n",
       "       0.78431373, 0.78039216, 0.78823529, 0.81176471, 0.83137255,\n",
       "       0.80392157, 0.69803922, 0.63529412, 0.61960784, 0.55686275,\n",
       "       0.58039216, 0.73333333, 0.76470588, 0.75686275, 0.6627451 ,\n",
       "       0.64705882, 0.73333333, 0.78431373, 0.78431373, 0.78431373,\n",
       "       0.78431373, 0.78431373, 0.78431373, 0.78431373, 0.78431373,\n",
       "       0.78823529, 0.78431373, 0.78431373, 0.78431373, 0.79607843,\n",
       "       0.82745098, 0.82352941, 0.74901961, 0.6627451 , 0.54117647,\n",
       "       0.56862745, 0.63921569, 0.6745098 , 0.7254902 , 0.76470588,\n",
       "       0.76862745, 0.76470588, 0.70980392, 0.6745098 , 0.64705882,\n",
       "       0.78431373, 0.78431373, 0.78431373, 0.78823529, 0.78823529,\n",
       "       0.78823529, 0.78431373, 0.78431373, 0.78823529, 0.78823529,\n",
       "       0.78823529, 0.79607843, 0.83529412, 0.85882353, 0.74901961,\n",
       "       0.55294118, 0.5372549 , 0.61960784, 0.72156863, 0.76078431,\n",
       "       0.76862745, 0.77254902, 0.77647059, 0.77254902, 0.76862745,\n",
       "       0.74901961, 0.66666667, 0.52941176, 0.78431373, 0.78431373,\n",
       "       0.78823529, 0.79215686, 0.79215686, 0.79215686, 0.78823529,\n",
       "       0.78823529, 0.79215686, 0.79215686, 0.79215686, 0.81960784,\n",
       "       0.8627451 , 0.84705882, 0.66666667, 0.49803922, 0.64313725,\n",
       "       0.74901961, 0.78039216, 0.78039216, 0.77647059, 0.77647059,\n",
       "       0.78431373, 0.78039216, 0.77647059, 0.76470588, 0.67843137,\n",
       "       0.52156863, 0.78823529, 0.78823529, 0.78823529, 0.79215686,\n",
       "       0.79215686, 0.79215686, 0.79607843, 0.79607843, 0.79607843,\n",
       "       0.79607843, 0.8       , 0.83529412, 0.85098039, 0.82352941,\n",
       "       0.7254902 , 0.68627451, 0.74509804, 0.70196078, 0.7372549 ,\n",
       "       0.76078431, 0.72156863, 0.72941176, 0.78039216, 0.78431373,\n",
       "       0.78039216, 0.77254902, 0.7254902 , 0.63137255, 0.78823529,\n",
       "       0.78823529, 0.79215686, 0.79607843, 0.79607843, 0.79607843,\n",
       "       0.79607843, 0.78823529, 0.77254902, 0.77647059, 0.79215686,\n",
       "       0.81960784, 0.80392157, 0.74901961, 0.78431373, 0.79607843,\n",
       "       0.76078431, 0.60784314, 0.61176471, 0.70196078, 0.65882353,\n",
       "       0.64313725, 0.76862745, 0.78823529, 0.78431373, 0.78431373,\n",
       "       0.76470588, 0.72156863, 0.79215686, 0.79215686, 0.79215686,\n",
       "       0.79607843, 0.8       , 0.8       , 0.8       , 0.76862745,\n",
       "       0.72156863, 0.70980392, 0.74901961, 0.78431373, 0.76078431,\n",
       "       0.6627451 , 0.74509804, 0.76078431, 0.71372549, 0.55294118,\n",
       "       0.4745098 , 0.62352941, 0.61568627, 0.58823529, 0.76470588,\n",
       "       0.79215686, 0.78823529, 0.78431373, 0.78039216, 0.76862745,\n",
       "       0.79607843, 0.79607843, 0.8       , 0.8       , 0.80392157,\n",
       "       0.81176471, 0.83137255, 0.81568627, 0.75294118, 0.68235294,\n",
       "       0.68627451, 0.71372549, 0.7372549 , 0.70588235, 0.76078431,\n",
       "       0.78039216, 0.71764706, 0.52941176, 0.38823529, 0.4745098 ,\n",
       "       0.50980392, 0.5372549 , 0.75686275, 0.79607843, 0.79215686,\n",
       "       0.78823529, 0.78823529, 0.78823529, 0.79607843, 0.79607843,\n",
       "       0.8       , 0.80392157, 0.80392157, 0.81960784, 0.85490196,\n",
       "       0.86666667, 0.83137255, 0.76470588, 0.71764706, 0.68235294,\n",
       "       0.6745098 , 0.63921569, 0.63921569, 0.6745098 , 0.67058824,\n",
       "       0.55294118, 0.37647059, 0.3372549 , 0.38039216, 0.44705882,\n",
       "       0.70196078, 0.79607843, 0.79607843, 0.79215686, 0.79215686,\n",
       "       0.78823529, 0.79215686, 0.79215686, 0.79607843, 0.8       ,\n",
       "       0.80392157, 0.80784314, 0.84705882, 0.88627451, 0.85490196,\n",
       "       0.80784314, 0.73333333, 0.65490196, 0.67058824, 0.6745098 ,\n",
       "       0.63137255, 0.6       , 0.56470588, 0.50980392, 0.41176471,\n",
       "       0.30588235, 0.32156863, 0.36862745, 0.59607843, 0.78823529,\n",
       "       0.79607843, 0.79215686, 0.79215686, 0.79215686, 0.79215686,\n",
       "       0.79215686, 0.79607843, 0.8       , 0.80392157, 0.79607843,\n",
       "       0.83529412, 0.88235294, 0.85490196, 0.80784314, 0.67843137,\n",
       "       0.54901961, 0.55686275, 0.65098039, 0.65098039, 0.59607843,\n",
       "       0.50588235, 0.41960784, 0.41568627, 0.32156863, 0.29803922,\n",
       "       0.35294118, 0.56862745, 0.78039216, 0.79607843, 0.79215686,\n",
       "       0.79215686, 0.78823529, 0.79607843, 0.79607843, 0.8       ,\n",
       "       0.80392157, 0.80392157, 0.79607843, 0.83921569, 0.88235294,\n",
       "       0.87843137, 0.81568627, 0.61568627, 0.44313725, 0.39215686,\n",
       "       0.50980392, 0.59215686, 0.53333333, 0.41568627, 0.38039216,\n",
       "       0.43137255, 0.34117647, 0.29411765, 0.40392157, 0.6627451 ,\n",
       "       0.78823529, 0.79215686, 0.79215686, 0.78823529, 0.78431373,\n",
       "       0.8       , 0.8       , 0.80392157, 0.80784314, 0.80392157,\n",
       "       0.79607843, 0.84313725, 0.89019608, 0.88627451, 0.79607843,\n",
       "       0.60392157, 0.4       , 0.28627451, 0.44313725, 0.57254902,\n",
       "       0.45098039, 0.3254902 , 0.41176471, 0.47058824, 0.36078431,\n",
       "       0.32156863, 0.53333333, 0.75686275, 0.79607843, 0.79607843,\n",
       "       0.79215686, 0.78823529, 0.78431373, 0.79607843, 0.8       ,\n",
       "       0.80392157, 0.80784314, 0.80392157, 0.79215686, 0.85098039,\n",
       "       0.89803922, 0.8627451 , 0.74901961, 0.58823529, 0.41176471,\n",
       "       0.27843137, 0.42745098, 0.48235294, 0.3254902 , 0.27843137,\n",
       "       0.45490196, 0.47058824, 0.35686275, 0.40784314, 0.68235294,\n",
       "       0.8       , 0.8       , 0.79607843, 0.79215686, 0.79215686,\n",
       "       0.78823529, 0.79607843, 0.8       , 0.80784314, 0.81176471,\n",
       "       0.8       , 0.79607843, 0.85882353, 0.89019608, 0.82745098,\n",
       "       0.70588235, 0.56470588, 0.41568627, 0.27843137, 0.36470588,\n",
       "       0.36078431, 0.21960784, 0.30980392, 0.46666667, 0.41176471,\n",
       "       0.34901961, 0.54901961, 0.77254902, 0.80784314, 0.80392157,\n",
       "       0.8       , 0.79607843, 0.79215686, 0.78823529, 0.79215686,\n",
       "       0.8       , 0.80392157, 0.80784314, 0.79607843, 0.81176471,\n",
       "       0.87058824, 0.8745098 , 0.78823529, 0.6745098 , 0.55294118,\n",
       "       0.41568627, 0.27843137, 0.3254902 , 0.29019608, 0.21960784,\n",
       "       0.38039216, 0.43137255, 0.34509804, 0.40392157, 0.68627451,\n",
       "       0.80392157, 0.80784314, 0.80392157, 0.80392157, 0.8       ,\n",
       "       0.79607843, 0.79215686, 0.69411765, 0.70588235, 0.71764706,\n",
       "       0.7254902 , 0.7372549 , 0.80784314, 0.86666667, 0.83921569,\n",
       "       0.74117647, 0.64313725, 0.54901961, 0.42745098, 0.29019608,\n",
       "       0.30196078, 0.27058824, 0.25490196, 0.38431373, 0.37647059,\n",
       "       0.3372549 , 0.51372549, 0.75686275, 0.80392157, 0.8       ,\n",
       "       0.8       , 0.8       , 0.79607843, 0.79215686, 0.78823529,\n",
       "       0.47058824, 0.4745098 , 0.47843137, 0.48627451, 0.57647059,\n",
       "       0.78431373, 0.83921569, 0.79607843, 0.69411765, 0.61176471,\n",
       "       0.54901961, 0.43529412, 0.29411765, 0.27843137, 0.29411765,\n",
       "       0.31764706, 0.35294118, 0.34117647, 0.36078431, 0.52156863,\n",
       "       0.63921569, 0.65490196, 0.6627451 , 0.67058824, 0.6745098 ,\n",
       "       0.68627451, 0.70196078, 0.72156863, 0.4       , 0.40392157,\n",
       "       0.40392157, 0.4       , 0.51764706, 0.76470588, 0.81176471,\n",
       "       0.76078431, 0.65882353, 0.61568627, 0.58431373, 0.44313725,\n",
       "       0.30980392, 0.2745098 , 0.3254902 , 0.38039216, 0.37647059,\n",
       "       0.34901961, 0.36078431, 0.4       , 0.42352941, 0.43529412,\n",
       "       0.44313725, 0.4627451 , 0.50196078, 0.57254902, 0.65490196,\n",
       "       0.72156863, 0.40392157, 0.40784314, 0.40784314, 0.40784314,\n",
       "       0.5372549 , 0.76078431, 0.79215686, 0.74117647, 0.66666667,\n",
       "       0.65490196, 0.61568627, 0.45490196, 0.34509804, 0.30980392,\n",
       "       0.35686275, 0.39607843, 0.38823529, 0.37647059, 0.39607843,\n",
       "       0.41176471, 0.43137255, 0.46666667, 0.53333333, 0.61568627,\n",
       "       0.68627451, 0.75294118, 0.80784314, 0.83921569, 0.40784314,\n",
       "       0.40784314, 0.41176471, 0.41176471, 0.56470588, 0.78431373,\n",
       "       0.8       , 0.76470588, 0.70588235, 0.68627451, 0.62745098,\n",
       "       0.48235294, 0.37647059, 0.33333333, 0.35686275, 0.38039216,\n",
       "       0.38431373, 0.41960784, 0.48627451, 0.56078431, 0.63921569,\n",
       "       0.70980392, 0.76078431, 0.78431373, 0.80392157, 0.82745098,\n",
       "       0.85490196, 0.87058824, 0.41176471, 0.41176471, 0.41568627,\n",
       "       0.42352941, 0.61960784, 0.82352941, 0.83137255, 0.80392157,\n",
       "       0.74901961, 0.70196078, 0.61176471, 0.47843137, 0.38431373,\n",
       "       0.34509804, 0.35294118, 0.37647059, 0.45098039, 0.61176471,\n",
       "       0.70196078, 0.7372549 , 0.75686275, 0.77647059, 0.8       ,\n",
       "       0.80392157, 0.79607843, 0.80784314, 0.84313725, 0.86666667,\n",
       "       0.40784314, 0.41176471, 0.41176471, 0.44705882, 0.69803922,\n",
       "       0.84313725, 0.83529412, 0.81960784, 0.76078431, 0.65882353,\n",
       "       0.54117647, 0.42745098, 0.37647059, 0.35686275, 0.36470588,\n",
       "       0.44705882, 0.64705882, 0.8       , 0.82745098, 0.78431373,\n",
       "       0.72941176, 0.71372549, 0.7372549 , 0.78431373, 0.80392157,\n",
       "       0.79215686, 0.80784314, 0.83137255, 0.40392157, 0.40784314,\n",
       "       0.41176471, 0.50196078, 0.77254902, 0.83529412, 0.80392157,\n",
       "       0.78823529, 0.69803922, 0.56078431, 0.45098039, 0.38823529,\n",
       "       0.37254902, 0.36862745, 0.44705882, 0.62745098, 0.75294118,\n",
       "       0.77647059, 0.78431373, 0.78431373, 0.7372549 , 0.6745098 ,\n",
       "       0.67058824, 0.70980392, 0.74509804, 0.77254902, 0.78823529,\n",
       "       0.79607843, 0.4       , 0.40784314, 0.42352941, 0.60392157,\n",
       "       0.82352941, 0.81568627, 0.76862745, 0.72941176, 0.61960784,\n",
       "       0.48235294, 0.4       , 0.37647059, 0.36862745, 0.4       ,\n",
       "       0.6       , 0.72941176, 0.72156863, 0.69803922, 0.69019608,\n",
       "       0.7372549 , 0.74901961, 0.66666667, 0.6       , 0.64313725,\n",
       "       0.69803922, 0.74901961, 0.78431373, 0.79607843])"
      ]
     },
     "execution_count": 12,
     "metadata": {},
     "output_type": "execute_result"
    }
   ],
   "source": [
    "x_train[45]                             #Showing Normalized array of a sample Image "
   ]
  },
  {
   "cell_type": "code",
   "execution_count": 13,
   "metadata": {},
   "outputs": [
    {
     "data": {
      "text/plain": [
       "'Y'"
      ]
     },
     "execution_count": 13,
     "metadata": {},
     "output_type": "execute_result"
    }
   ],
   "source": [
    "labels[y_train[45]].upper()             #Showing Label a sample Image"
   ]
  },
  {
   "cell_type": "markdown",
   "metadata": {},
   "source": [
    "# Building Model"
   ]
  },
  {
   "cell_type": "code",
   "execution_count": 14,
   "metadata": {},
   "outputs": [
    {
     "name": "stdout",
     "output_type": "stream",
     "text": [
      "Epoch 1/10\n",
      "920/920 [==============================] - 3s 2ms/step - loss: 2.5220 - accuracy: 0.2685\n",
      "Epoch 2/10\n",
      "920/920 [==============================] - 2s 2ms/step - loss: 1.5243 - accuracy: 0.5462\n",
      "Epoch 3/10\n",
      "920/920 [==============================] - 2s 2ms/step - loss: 1.1099 - accuracy: 0.6647\n",
      "Epoch 4/10\n",
      "920/920 [==============================] - 2s 2ms/step - loss: 0.8613 - accuracy: 0.7378\n",
      "Epoch 5/10\n",
      "920/920 [==============================] - 2s 2ms/step - loss: 0.6807 - accuracy: 0.8001\n",
      "Epoch 6/10\n",
      "920/920 [==============================] - 2s 2ms/step - loss: 0.5436 - accuracy: 0.8450\n",
      "Epoch 7/10\n",
      "920/920 [==============================] - 2s 2ms/step - loss: 0.4360 - accuracy: 0.8826\n",
      "Epoch 8/10\n",
      "920/920 [==============================] - 2s 2ms/step - loss: 0.3409 - accuracy: 0.9131\n",
      "Epoch 9/10\n",
      "920/920 [==============================] - 2s 2ms/step - loss: 0.2649 - accuracy: 0.9392\n",
      "Epoch 10/10\n",
      "920/920 [==============================] - 2s 2ms/step - loss: 0.1965 - accuracy: 0.9603\n"
     ]
    },
    {
     "data": {
      "text/plain": [
       "<keras.callbacks.History at 0x2b9b50f2200>"
      ]
     },
     "execution_count": 14,
     "metadata": {},
     "output_type": "execute_result"
    }
   ],
   "source": [
    "# 1st Trail Model\n",
    "\n",
    "model_1 = keras.Sequential([\n",
    "    keras.layers.Dense(100, input_shape=(784, ), activation='sigmoid'),\n",
    "    keras.layers.Dense(50, activation='sigmoid'),\n",
    "    keras.layers.Dense(25, activation='sigmoid')\n",
    "])\n",
    "\n",
    "model_1.compile(\n",
    "    optimizer = 'adam',\n",
    "    loss = 'sparse_categorical_crossentropy',\n",
    "    metrics = 'accuracy'\n",
    ")\n",
    "\n",
    "model_1.fit(x_train, y_train, epochs=10)"
   ]
  },
  {
   "cell_type": "code",
   "execution_count": 15,
   "metadata": {},
   "outputs": [
    {
     "name": "stdout",
     "output_type": "stream",
     "text": [
      "Epoch 1/10\n",
      "920/920 [==============================] - 3s 2ms/step - loss: 2.1217 - accuracy: 0.3610\n",
      "Epoch 2/10\n",
      "920/920 [==============================] - 2s 2ms/step - loss: 1.1726 - accuracy: 0.6255\n",
      "Epoch 3/10\n",
      "920/920 [==============================] - 2s 2ms/step - loss: 0.8233 - accuracy: 0.7390\n",
      "Epoch 4/10\n",
      "920/920 [==============================] - 2s 2ms/step - loss: 0.6263 - accuracy: 0.8013\n",
      "Epoch 5/10\n",
      "920/920 [==============================] - 2s 2ms/step - loss: 0.4697 - accuracy: 0.8556\n",
      "Epoch 6/10\n",
      "920/920 [==============================] - 2s 2ms/step - loss: 0.3558 - accuracy: 0.8947\n",
      "Epoch 7/10\n",
      "920/920 [==============================] - 2s 2ms/step - loss: 0.2739 - accuracy: 0.9205\n",
      "Epoch 8/10\n",
      "920/920 [==============================] - 2s 2ms/step - loss: 0.2026 - accuracy: 0.9450\n",
      "Epoch 9/10\n",
      "920/920 [==============================] - 2s 2ms/step - loss: 0.1513 - accuracy: 0.9605\n",
      "Epoch 10/10\n",
      "920/920 [==============================] - 2s 2ms/step - loss: 0.1183 - accuracy: 0.9710\n"
     ]
    },
    {
     "data": {
      "text/plain": [
       "<keras.callbacks.History at 0x2b9b54d2d10>"
      ]
     },
     "execution_count": 15,
     "metadata": {},
     "output_type": "execute_result"
    }
   ],
   "source": [
    "# 2nd Trail Model\n",
    "\n",
    "model_2 = keras.Sequential([\n",
    "    keras.layers.Dense(100, input_shape=(784, ), activation='sigmoid'),\n",
    "    keras.layers.Dense(50, activation='relu'),\n",
    "    keras.layers.Dense(25, activation='softmax')\n",
    "])\n",
    "\n",
    "model_2.compile(\n",
    "    optimizer = 'adam',\n",
    "    loss = 'sparse_categorical_crossentropy',\n",
    "    metrics = 'accuracy'\n",
    ")\n",
    "\n",
    "model_2.fit(x_train, y_train, epochs=10)"
   ]
  },
  {
   "cell_type": "code",
   "execution_count": 49,
   "metadata": {},
   "outputs": [
    {
     "name": "stdout",
     "output_type": "stream",
     "text": [
      "Epoch 1/10\n",
      "920/920 [==============================] - 3s 2ms/step - loss: 2.0452 - accuracy: 0.3816\n",
      "Epoch 2/10\n",
      "920/920 [==============================] - 2s 2ms/step - loss: 1.0967 - accuracy: 0.6490\n",
      "Epoch 3/10\n",
      "920/920 [==============================] - 2s 2ms/step - loss: 0.7665 - accuracy: 0.7548\n",
      "Epoch 4/10\n",
      "920/920 [==============================] - 2s 2ms/step - loss: 0.5553 - accuracy: 0.8303\n",
      "Epoch 5/10\n",
      "920/920 [==============================] - 2s 2ms/step - loss: 0.4009 - accuracy: 0.8795\n",
      "Epoch 6/10\n",
      "920/920 [==============================] - 2s 2ms/step - loss: 0.2989 - accuracy: 0.9136\n",
      "Epoch 7/10\n",
      "920/920 [==============================] - 2s 2ms/step - loss: 0.2117 - accuracy: 0.9430\n",
      "Epoch 8/10\n",
      "920/920 [==============================] - 2s 2ms/step - loss: 0.1595 - accuracy: 0.9573\n",
      "Epoch 9/10\n",
      "920/920 [==============================] - 2s 2ms/step - loss: 0.1118 - accuracy: 0.9736\n",
      "Epoch 10/10\n",
      "920/920 [==============================] - 2s 2ms/step - loss: 0.0873 - accuracy: 0.9805\n"
     ]
    },
    {
     "data": {
      "text/plain": [
       "<keras.callbacks.History at 0x2b9b758c790>"
      ]
     },
     "execution_count": 49,
     "metadata": {},
     "output_type": "execute_result"
    }
   ],
   "source": [
    "# Final Model (Accuracy is almost 0.9805 )\n",
    "\n",
    "model = keras.Sequential([\n",
    "    keras.layers.Dense(100, input_shape=(784, ), activation='sigmoid'),\n",
    "    keras.layers.Dense(50, activation='gelu'),\n",
    "    keras.layers.Dense(25, activation='softmax')\n",
    "])\n",
    "\n",
    "model.compile(\n",
    "    optimizer = 'adam',\n",
    "    loss = 'sparse_categorical_crossentropy',\n",
    "    metrics = 'accuracy'\n",
    ")\n",
    "\n",
    "model.fit(x_train, y_train, epochs=10)"
   ]
  },
  {
   "cell_type": "markdown",
   "metadata": {},
   "source": [
    "# Testing Model"
   ]
  },
  {
   "cell_type": "code",
   "execution_count": 50,
   "metadata": {},
   "outputs": [
    {
     "name": "stdout",
     "output_type": "stream",
     "text": [
      "163/163 [==============================] - 0s 2ms/step - loss: 0.0850 - accuracy: 0.9831\n"
     ]
    },
    {
     "data": {
      "text/plain": [
       "[0.08499734848737717, 0.9830606579780579]"
      ]
     },
     "execution_count": 50,
     "metadata": {},
     "output_type": "execute_result"
    }
   ],
   "source": [
    "model.evaluate(x_test, y_test)"
   ]
  },
  {
   "cell_type": "code",
   "execution_count": 59,
   "metadata": {},
   "outputs": [
    {
     "name": "stdout",
     "output_type": "stream",
     "text": [
      "163/163 [==============================] - 0s 2ms/step\n"
     ]
    }
   ],
   "source": [
    "y_predicted = model.predict(x_test)                         # Prediction According to Test Dataset"
   ]
  },
  {
   "cell_type": "code",
   "execution_count": 60,
   "metadata": {},
   "outputs": [
    {
     "data": {
      "text/plain": [
       "array([3.9190135e-15, 9.5368415e-26, 4.6905912e-10, 5.9895768e-08,\n",
       "       1.7713754e-17, 9.0825007e-11, 8.9557259e-04, 9.9817729e-01,\n",
       "       3.2638873e-05, 1.9835281e-10, 1.6236334e-10, 4.6436526e-06,\n",
       "       2.2187918e-13, 1.2822486e-13, 6.3660969e-13, 3.9510172e-07,\n",
       "       6.3794287e-10, 2.5762075e-08, 8.6716419e-11, 7.8290096e-04,\n",
       "       1.1705548e-14, 4.1793178e-06, 6.0844157e-17, 6.9713511e-05,\n",
       "       3.2646778e-05], dtype=float32)"
      ]
     },
     "execution_count": 60,
     "metadata": {},
     "output_type": "execute_result"
    }
   ],
   "source": [
    "y_predicted[3]                                              # Prediction of 4th(index-3) Array of Test Dataset"
   ]
  },
  {
   "cell_type": "code",
   "execution_count": 61,
   "metadata": {},
   "outputs": [
    {
     "data": {
      "text/plain": [
       "7"
      ]
     },
     "execution_count": 61,
     "metadata": {},
     "output_type": "execute_result"
    }
   ],
   "source": [
    "np.argmax(y_predicted[3])                                   # Predicted Label of 4th(index-3) Array of Test Dataset"
   ]
  },
  {
   "cell_type": "code",
   "execution_count": 62,
   "metadata": {},
   "outputs": [
    {
     "data": {
      "text/plain": [
       "[18, 7, 3, 7, 22]"
      ]
     },
     "execution_count": 62,
     "metadata": {},
     "output_type": "execute_result"
    }
   ],
   "source": [
    "y_predicted_labels = [np.argmax(i) for i in y_predicted]\n",
    "y_predicted_labels[:5]                                      # First 5 Predicted Labels"
   ]
  },
  {
   "cell_type": "code",
   "execution_count": 63,
   "metadata": {},
   "outputs": [
    {
     "data": {
      "text/plain": [
       "array([18,  7,  3,  7, 22], dtype=int64)"
      ]
     },
     "execution_count": 63,
     "metadata": {},
     "output_type": "execute_result"
    }
   ],
   "source": [
    "y_test[:5]                                                  # First 5 Actual Labels"
   ]
  },
  {
   "cell_type": "code",
   "execution_count": 64,
   "metadata": {},
   "outputs": [
    {
     "data": {
      "text/plain": [
       "<tf.Tensor: shape=(25, 25), dtype=int32, numpy=\n",
       "array([[222,   0,   0,   0,   0,   0,   0,   0,   0,   0,   0,   0,   0,\n",
       "          0,   0,   0,   0,   0,   0,   0,   0,   0,   0,   0,   0],\n",
       "       [  0, 224,   0,   0,   0,   0,   0,   0,   0,   0,   0,   0,   0,\n",
       "          0,   0,   0,   0,   0,   0,   0,   0,   0,   0,   0,   0],\n",
       "       [  0,   0, 219,   0,   0,   0,   0,   0,   0,   0,   0,   0,   0,\n",
       "          0,   0,   0,   0,   0,   0,   0,   0,   0,   0,   0,   0],\n",
       "       [  0,   0,   0, 228,   0,   0,   0,   0,   0,   0,   0,   0,   0,\n",
       "          0,   0,   0,   0,   0,   0,   0,   0,   0,   0,   0,   0],\n",
       "       [  0,   0,   0,   0, 216,   0,   0,   0,   0,   0,   0,   0,   0,\n",
       "          0,   0,   0,   0,   0,   0,   0,   0,   0,   0,   0,   0],\n",
       "       [  0,   0,   0,   0,   0, 194,   0,   0,   0,   0,   0,   0,   0,\n",
       "          0,   0,   0,   0,   0,   0,   0,   0,   0,   0,   0,   1],\n",
       "       [  0,   0,   0,   0,   0,   0, 222,   0,   0,   0,   0,   0,   0,\n",
       "          0,   0,   0,   0,   0,   0,   4,   0,   0,   0,   0,   0],\n",
       "       [  0,   0,   0,   0,   0,   0,   0, 228,   0,   0,   0,   0,   0,\n",
       "          0,   0,   0,   0,   0,   0,   0,   0,   0,   0,   0,   0],\n",
       "       [  0,   0,   0,   0,   0,   0,   0,   0, 225,   0,   0,   0,   0,\n",
       "          0,   0,   0,   0,   0,   0,   0,   0,   0,   0,   0,   0],\n",
       "       [  0,   0,   0,   0,   0,   0,   0,   0,   0,   0,   0,   0,   0,\n",
       "          0,   0,   0,   0,   0,   0,   0,   0,   0,   0,   0,   0],\n",
       "       [  0,   0,   0,   0,   0,   0,   0,   0,   0,   0, 214,   0,   0,\n",
       "          0,   0,   0,   0,   0,   0,   0,   0,   0,   0,   0,   4],\n",
       "       [  0,   0,   0,   0,   0,   0,   0,   0,   0,   0,   0, 199,   0,\n",
       "          0,   0,   0,   0,   0,   0,   0,   0,   0,   0,   0,   0],\n",
       "       [  0,   0,   0,   0,   0,   0,   0,   0,   0,   0,   0,   0, 224,\n",
       "          0,   0,   0,   0,   0,   3,   0,   0,   0,   0,   0,   0],\n",
       "       [  3,   2,   0,   0,   0,   0,   0,   1,   4,   0,   0,   0,   1,\n",
       "        191,   0,   0,   0,   0,   4,   0,   0,   0,   0,   0,   0],\n",
       "       [  0,   0,   0,   0,   0,   0,   0,   0,   0,   0,   0,   0,   0,\n",
       "          0, 212,   0,   0,   0,   0,   0,   0,   0,   0,   0,   0],\n",
       "       [  0,   0,   0,   0,   0,   0,   0,   0,   0,   0,   0,   0,   0,\n",
       "          0,   0, 198,   0,   0,   0,   0,   0,   0,   0,   0,   0],\n",
       "       [  0,   0,   0,   2,   0,   0,   0,   0,   0,   0,   0,   0,   0,\n",
       "          0,   0,   0, 209,   0,   1,   0,   0,   0,   0,   0,   0],\n",
       "       [  0,   0,   0,   0,   0,   0,   0,   0,   0,   0,   1,   2,   0,\n",
       "          0,   0,   0,   0, 200,   0,   0,   0,   9,   0,   0,   7],\n",
       "       [  0,   0,   0,   0,   0,   0,   0,   1,   2,   0,   0,   0,   0,\n",
       "          0,   0,   0,   0,   0, 235,   0,   0,   0,   0,   0,   2],\n",
       "       [  0,   0,   0,   0,   0,   0,   0,   0,   0,   0,   0,   0,   0,\n",
       "          0,   0,   0,   0,   0,   0, 213,   0,   0,   0,   0,   0],\n",
       "       [  0,   0,   0,   0,   0,   0,   0,   0,   0,   0,  11,   0,   0,\n",
       "          0,   0,   0,   0,   5,   0,   0, 191,  10,   0,   0,   0],\n",
       "       [  0,   0,   0,   0,   0,   0,   0,   0,   0,   0,   1,   0,   0,\n",
       "          0,   0,   0,   0,   0,   0,   0,   0, 192,   0,   0,   0],\n",
       "       [  0,   0,   0,   0,   0,   0,   0,   0,   0,   0,   1,   0,   0,\n",
       "          0,   0,   0,   0,   0,   0,   0,   0,   5, 236,   0,   0],\n",
       "       [  0,   0,   0,   0,   0,   0,   0,   0,   0,   0,   0,   0,   0,\n",
       "          0,   0,   0,   0,   0,   0,   1,   0,   0,   0, 196,   0],\n",
       "       [  0,   0,   0,   0,   0,   0,   0,   0,   0,   0,   0,   0,   0,\n",
       "          0,   0,   0,   0,   0,   0,   0,   0,   0,   0,   0, 219]])>"
      ]
     },
     "execution_count": 64,
     "metadata": {},
     "output_type": "execute_result"
    }
   ],
   "source": [
    "# Showing Confution Matrix\n",
    "\n",
    "cm = tf.math.confusion_matrix(labels=y_test, predictions=y_predicted_labels)     # Actual Labels X Predicted Labels\n",
    "cm"
   ]
  },
  {
   "cell_type": "code",
   "execution_count": 65,
   "metadata": {},
   "outputs": [
    {
     "data": {
      "text/plain": [
       "Text(114.0, 0.5, 'Truth')"
      ]
     },
     "execution_count": 65,
     "metadata": {},
     "output_type": "execute_result"
    },
    {
     "data": {
      "image/png": "[encoded data removed]",
      "text/plain": [
       "<Figure size 1080x720 with 2 Axes>"
      ]
     },
     "metadata": {
      "needs_background": "light"
     },
     "output_type": "display_data"
    }
   ],
   "source": [
    "#Showing Hitmap of Confution Matrix\n",
    "\n",
    "plt.figure(figsize = (15,10))\n",
    "sn.heatmap(cm, annot=True, fmt='d')\n",
    "plt.xlabel('Predicted')\n",
    "plt.ylabel('Truth')"
   ]
  }
 ],
 "metadata": {
  "kernelspec": {
   "display_name": "Python 3.10.1 64-bit",
   "language": "python",
   "name": "python3"
  },
  "language_info": {
   "codemirror_mode": {
    "name": "ipython",
    "version": 3
   },
   "file_extension": ".py",
   "mimetype": "text/x-python",
   "name": "python",
   "nbconvert_exporter": "python",
   "pygments_lexer": "ipython3",
   "version": "3.10.1"
  },
  "orig_nbformat": 4,
  "vscode": {
   "interpreter": {
    "hash": "369f2c481f4da34e4445cda3fffd2e751bd1c4d706f27375911949ba6bb62e1c"
   }
  }
 },
 "nbformat": 4,
 "nbformat_minor": 2
}
