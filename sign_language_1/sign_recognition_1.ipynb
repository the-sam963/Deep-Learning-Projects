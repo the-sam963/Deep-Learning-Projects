{
 "cells": [
  {
   "cell_type": "code",
   "execution_count": 1,
   "metadata": {},
   "outputs": [],
   "source": [
    "import tensorflow as tf\n",
    "from tensorflow import keras\n",
    "import numpy as np\n",
    "import pandas as pd\n",
    "import seaborn as sn\n",
    "import matplotlib.pyplot as plt\n",
    "%matplotlib inline"
   ]
  },
  {
   "cell_type": "code",
   "execution_count": 2,
   "metadata": {},
   "outputs": [],
   "source": [
    "train_df = pd.read_csv('train.csv')\n",
    "test_df = pd.read_csv('test.csv')\n"
   ]
  },
  {
   "cell_type": "code",
   "execution_count": 3,
   "metadata": {},
   "outputs": [],
   "source": [
    "x_train = np.array(train_df.drop(['label'], axis=1))\n",
    "y_train = np.array(train_df['label'])"
   ]
  },
  {
   "cell_type": "code",
   "execution_count": 4,
   "metadata": {},
   "outputs": [],
   "source": [
    "x_test = np.array(test_df.drop(['label'], axis=1))\n",
    "y_test = np.array(test_df['label'])"
   ]
  },
  {
   "cell_type": "code",
   "execution_count": 5,
   "metadata": {},
   "outputs": [],
   "source": [
    "labels = ['a', 'b', 'c', 'd', 'e', 'f', 'g', 'h', 'i', 'k', 'l', 'm', 'n', 'o', 'p', 'q', 'r', 's', 't', 'u', 'v', 'w', 'x', 'y']"
   ]
  },
  {
   "cell_type": "code",
   "execution_count": 6,
   "metadata": {},
   "outputs": [
    {
     "data": {
      "text/plain": [
       "array([ 3,  6,  2,  2, 13, 16,  8, 22,  3,  3, 18, 10, 16, 22, 20, 16, 17,\n",
       "       13, 13, 19, 18, 21, 16, 23,  3], dtype=int64)"
      ]
     },
     "execution_count": 6,
     "metadata": {},
     "output_type": "execute_result"
    }
   ],
   "source": [
    "np.unique(y_train)\n",
    "y_train[:25]"
   ]
  },
  {
   "cell_type": "code",
   "execution_count": 7,
   "metadata": {},
   "outputs": [
    {
     "data": {
      "text/plain": [
       "<matplotlib.image.AxesImage at 0x1c2ef69c940>"
      ]
     },
     "execution_count": 7,
     "metadata": {},
     "output_type": "execute_result"
    },
    {
     "data": {
      "image/png": "[encoded data removed]",
      "text/plain": [
       "<Figure size 432x288 with 1 Axes>"
      ]
     },
     "metadata": {
      "needs_background": "light"
     },
     "output_type": "display_data"
    }
   ],
   "source": [
    "plt.imshow(x_train[6].reshape(28,28))"
   ]
  },
  {
   "cell_type": "code",
   "execution_count": 8,
   "metadata": {},
   "outputs": [],
   "source": [
    "x_train = x_train / 255\n",
    "x_test = x_test / 255"
   ]
  },
  {
   "cell_type": "code",
   "execution_count": 9,
   "metadata": {},
   "outputs": [
    {
     "data": {
      "text/plain": [
       "array([0.5254902 , 0.5254902 , 0.52941176, 0.52941176, 0.53333333,\n",
       "       0.5372549 , 0.5372549 , 0.54117647, 0.54117647, 0.54117647,\n",
       "       0.54509804, 0.54117647, 0.54117647, 0.54509804, 0.54117647,\n",
       "       0.54509804, 0.54509804, 0.54509804, 0.54509804, 0.54117647,\n",
       "       0.54117647, 0.54117647, 0.5372549 , 0.53333333, 0.52941176,\n",
       "       0.5254902 , 0.5254902 , 0.5254902 , 0.54509804, 0.5372549 ,\n",
       "       0.54117647, 0.54509804, 0.54509804, 0.54117647, 0.54901961,\n",
       "       0.54901961, 0.55294118, 0.55686275, 0.55686275, 0.55294118,\n",
       "       0.55686275, 0.55294118, 0.55294118, 0.55686275, 0.55294118,\n",
       "       0.55294118, 0.55294118, 0.54901961, 0.54901961, 0.54901961,\n",
       "       0.54509804, 0.54117647, 0.54117647, 0.5372549 , 0.53333333,\n",
       "       0.52941176, 0.55294118, 0.55294118, 0.55294118, 0.55294118,\n",
       "       0.56078431, 0.56078431, 0.56078431, 0.56078431, 0.56470588,\n",
       "       0.56470588, 0.56862745, 0.56862745, 0.56862745, 0.58039216,\n",
       "       0.56862745, 0.56862745, 0.56470588, 0.56470588, 0.56470588,\n",
       "       0.56078431, 0.56078431, 0.55686275, 0.55686275, 0.55686275,\n",
       "       0.55686275, 0.54901961, 0.54117647, 0.54117647, 0.56470588,\n",
       "       0.56470588, 0.56862745, 0.56470588, 0.57647059, 0.57647059,\n",
       "       0.57254902, 0.57647059, 0.58039216, 0.58039216, 0.57254902,\n",
       "       0.59215686, 0.4745098 , 0.47843137, 0.58823529, 0.57254902,\n",
       "       0.57647059, 0.57647059, 0.57647059, 0.57254902, 0.57254902,\n",
       "       0.56862745, 0.56862745, 0.56862745, 0.56862745, 0.56470588,\n",
       "       0.55294118, 0.55294118, 0.57254902, 0.57647059, 0.57647059,\n",
       "       0.58039216, 0.58431373, 0.58431373, 0.58039216, 0.58431373,\n",
       "       0.58823529, 0.58823529, 0.58039216, 0.62352941, 0.43529412,\n",
       "       0.34117647, 0.61568627, 0.58431373, 0.58823529, 0.59215686,\n",
       "       0.59215686, 0.58823529, 0.58039216, 0.57647059, 0.57647059,\n",
       "       0.57254902, 0.57254902, 0.57647059, 0.56862745, 0.56470588,\n",
       "       0.58039216, 0.58431373, 0.59215686, 0.59607843, 0.59607843,\n",
       "       0.6       , 0.59607843, 0.6       , 0.6       , 0.60392157,\n",
       "       0.59215686, 0.65098039, 0.44313725, 0.28627451, 0.61568627,\n",
       "       0.59607843, 0.6       , 0.60392157, 0.6       , 0.6       ,\n",
       "       0.59215686, 0.58823529, 0.58823529, 0.58039216, 0.58039216,\n",
       "       0.58039216, 0.57647059, 0.57254902, 0.59215686, 0.6       ,\n",
       "       0.60392157, 0.60392157, 0.60392157, 0.60392157, 0.60784314,\n",
       "       0.60784314, 0.60784314, 0.61568627, 0.60392157, 0.64705882,\n",
       "       0.44313725, 0.28627451, 0.62352941, 0.60392157, 0.60392157,\n",
       "       0.60784314, 0.60784314, 0.60784314, 0.60392157, 0.6       ,\n",
       "       0.6       , 0.59607843, 0.58823529, 0.59215686, 0.59215686,\n",
       "       0.58431373, 0.6       , 0.60392157, 0.60392157, 0.60784314,\n",
       "       0.61176471, 0.61568627, 0.61568627, 0.61568627, 0.61960784,\n",
       "       0.62352941, 0.61568627, 0.64313725, 0.39215686, 0.32156863,\n",
       "       0.64705882, 0.61176471, 0.61568627, 0.61568627, 0.61960784,\n",
       "       0.61568627, 0.61568627, 0.61176471, 0.61176471, 0.60784314,\n",
       "       0.60392157, 0.60392157, 0.6       , 0.59215686, 0.60392157,\n",
       "       0.60784314, 0.61568627, 0.61568627, 0.62352941, 0.62352941,\n",
       "       0.62352941, 0.62352941, 0.62745098, 0.62745098, 0.61568627,\n",
       "       0.67058824, 0.45882353, 0.31372549, 0.64313725, 0.63137255,\n",
       "       0.63921569, 0.63921569, 0.62352941, 0.62352941, 0.62352941,\n",
       "       0.61568627, 0.61568627, 0.61568627, 0.61568627, 0.60784314,\n",
       "       0.6       , 0.59607843, 0.61176471, 0.61568627, 0.61960784,\n",
       "       0.61960784, 0.62352941, 0.62352941, 0.62745098, 0.62352941,\n",
       "       0.63137255, 0.63529412, 0.62745098, 0.68627451, 0.45490196,\n",
       "       0.30588235, 0.65098039, 0.59607843, 0.48235294, 0.49411765,\n",
       "       0.63921569, 0.63137255, 0.63921569, 0.64705882, 0.62352941,\n",
       "       0.61960784, 0.61568627, 0.61176471, 0.61568627, 0.61176471,\n",
       "       0.62745098, 0.62745098, 0.62745098, 0.62745098, 0.63137255,\n",
       "       0.63137255, 0.63529412, 0.63529412, 0.63921569, 0.63921569,\n",
       "       0.63921569, 0.67058824, 0.43921569, 0.28627451, 0.60392157,\n",
       "       0.57254902, 0.54901961, 0.37254902, 0.5372549 , 0.65882353,\n",
       "       0.54117647, 0.5372549 , 0.64705882, 0.63137255, 0.62352941,\n",
       "       0.61176471, 0.5254902 , 0.56862745, 0.63137255, 0.63529412,\n",
       "       0.63921569, 0.63921569, 0.64313725, 0.64705882, 0.64705882,\n",
       "       0.64705882, 0.64705882, 0.64705882, 0.63921569, 0.68235294,\n",
       "       0.54117647, 0.33333333, 0.41960784, 0.61568627, 0.69411765,\n",
       "       0.50588235, 0.35686275, 0.60784314, 0.54509804, 0.32156863,\n",
       "       0.51372549, 0.62745098, 0.62352941, 0.62745098, 0.41960784,\n",
       "       0.52156863, 0.63529412, 0.64313725, 0.64705882, 0.64705882,\n",
       "       0.65098039, 0.65490196, 0.65098039, 0.65490196, 0.65882353,\n",
       "       0.6627451 , 0.63921569, 0.69803922, 0.55294118, 0.33333333,\n",
       "       0.2627451 , 0.54117647, 0.72941176, 0.59607843, 0.32941176,\n",
       "       0.54117647, 0.56470588, 0.38431373, 0.27058824, 0.37254902,\n",
       "       0.49019608, 0.65490196, 0.38823529, 0.52156863, 0.64313725,\n",
       "       0.65098039, 0.65098039, 0.65098039, 0.65490196, 0.65882353,\n",
       "       0.65882353, 0.65490196, 0.6627451 , 0.66666667, 0.65098039,\n",
       "       0.69019608, 0.56078431, 0.45882353, 0.36078431, 0.4       ,\n",
       "       0.65882353, 0.64705882, 0.37647059, 0.54117647, 0.56078431,\n",
       "       0.36470588, 0.39607843, 0.43529412, 0.43529412, 0.67843137,\n",
       "       0.39215686, 0.45098039, 0.65098039, 0.65490196, 0.65490196,\n",
       "       0.65490196, 0.65882353, 0.65882353, 0.6627451 , 0.6627451 ,\n",
       "       0.66666667, 0.67058824, 0.65882353, 0.69019608, 0.71764706,\n",
       "       0.52941176, 0.39215686, 0.41960784, 0.50980392, 0.61176471,\n",
       "       0.30588235, 0.56862745, 0.58431373, 0.34117647, 0.50980392,\n",
       "       0.48235294, 0.34901961, 0.63137255, 0.43921569, 0.32941176,\n",
       "       0.65490196, 0.6627451 , 0.6627451 , 0.6627451 , 0.67058824,\n",
       "       0.66666667, 0.66666667, 0.66666667, 0.6745098 , 0.6745098 ,\n",
       "       0.66666667, 0.72156863, 0.63529412, 0.37254902, 0.34117647,\n",
       "       0.34901961, 0.49803922, 0.52941176, 0.2627451 , 0.60784314,\n",
       "       0.50588235, 0.27843137, 0.54901961, 0.47843137, 0.31372549,\n",
       "       0.61176471, 0.46666667, 0.24313725, 0.65882353, 0.6627451 ,\n",
       "       0.67058824, 0.66666667, 0.6745098 , 0.6745098 , 0.6745098 ,\n",
       "       0.67843137, 0.67843137, 0.6745098 , 0.6745098 , 0.70980392,\n",
       "       0.61176471, 0.40392157, 0.32156863, 0.25098039, 0.42745098,\n",
       "       0.44705882, 0.32941176, 0.61176471, 0.41176471, 0.31764706,\n",
       "       0.58823529, 0.41960784, 0.36078431, 0.67843137, 0.41176471,\n",
       "       0.29019608, 0.66666667, 0.66666667, 0.6745098 , 0.6745098 ,\n",
       "       0.67843137, 0.68235294, 0.68235294, 0.68235294, 0.68235294,\n",
       "       0.68235294, 0.67058824, 0.73333333, 0.69019608, 0.50196078,\n",
       "       0.34509804, 0.26666667, 0.32156863, 0.48235294, 0.42352941,\n",
       "       0.56470588, 0.34509804, 0.42745098, 0.69803922, 0.39215686,\n",
       "       0.41568627, 0.64705882, 0.30980392, 0.44313725, 0.67058824,\n",
       "       0.6745098 , 0.67843137, 0.67843137, 0.67843137, 0.67843137,\n",
       "       0.67843137, 0.68235294, 0.68627451, 0.68235294, 0.68235294,\n",
       "       0.75686275, 0.69019608, 0.52156863, 0.36862745, 0.30196078,\n",
       "       0.24313725, 0.25490196, 0.41568627, 0.62745098, 0.31372549,\n",
       "       0.41960784, 0.56862745, 0.34901961, 0.54509804, 0.52156863,\n",
       "       0.28235294, 0.59607843, 0.67058824, 0.6745098 , 0.6745098 ,\n",
       "       0.67843137, 0.68235294, 0.68235294, 0.68627451, 0.68627451,\n",
       "       0.69411765, 0.69019608, 0.70196078, 0.76078431, 0.69803922,\n",
       "       0.56862745, 0.43529412, 0.31764706, 0.25490196, 0.29411765,\n",
       "       0.42745098, 0.55686275, 0.45490196, 0.62745098, 0.58431373,\n",
       "       0.50196078, 0.58039216, 0.38039216, 0.32941176, 0.69019608,\n",
       "       0.6745098 , 0.67843137, 0.67843137, 0.68627451, 0.69019608,\n",
       "       0.69411765, 0.69411765, 0.69411765, 0.70196078, 0.69411765,\n",
       "       0.70980392, 0.76078431, 0.70980392, 0.61176471, 0.4745098 ,\n",
       "       0.35686275, 0.28235294, 0.35686275, 0.56470588, 0.64313725,\n",
       "       0.68235294, 0.64705882, 0.59607843, 0.45490196, 0.43137255,\n",
       "       0.29019608, 0.38823529, 0.71764706, 0.6745098 , 0.68235294,\n",
       "       0.68627451, 0.69019608, 0.69019608, 0.69019608, 0.69411765,\n",
       "       0.69411765, 0.70196078, 0.69411765, 0.70588235, 0.76470588,\n",
       "       0.7372549 , 0.63529412, 0.47058824, 0.38039216, 0.30588235,\n",
       "       0.35294118, 0.63921569, 0.71764706, 0.70980392, 0.63529412,\n",
       "       0.5372549 , 0.40784314, 0.31372549, 0.22745098, 0.54901961,\n",
       "       0.70588235, 0.67843137, 0.68627451, 0.68627451, 0.69411765,\n",
       "       0.69411765, 0.69411765, 0.69803922, 0.69411765, 0.70588235,\n",
       "       0.70196078, 0.69411765, 0.75686275, 0.7372549 , 0.63921569,\n",
       "       0.48627451, 0.43137255, 0.34901961, 0.38039216, 0.64705882,\n",
       "       0.71372549, 0.70588235, 0.6       , 0.48235294, 0.37647059,\n",
       "       0.23921569, 0.39215686, 0.71372549, 0.68627451, 0.68235294,\n",
       "       0.68627451, 0.69019608, 0.69803922, 0.69803922, 0.69803922,\n",
       "       0.69803922, 0.70196078, 0.70196078, 0.70196078, 0.69411765,\n",
       "       0.75294118, 0.72941176, 0.62745098, 0.49411765, 0.45490196,\n",
       "       0.37254902, 0.40784314, 0.69019608, 0.71764706, 0.65490196,\n",
       "       0.53333333, 0.42352941, 0.30196078, 0.28627451, 0.6627451 ,\n",
       "       0.70588235, 0.69411765, 0.68627451, 0.69019608, 0.69411765,\n",
       "       0.69803922, 0.70196078, 0.70196078, 0.70196078, 0.70588235,\n",
       "       0.70980392, 0.71372549, 0.70980392, 0.74509804, 0.72156863,\n",
       "       0.62745098, 0.50588235, 0.45490196, 0.35294118, 0.41568627,\n",
       "       0.68235294, 0.68235294, 0.59607843, 0.47843137, 0.34901961,\n",
       "       0.22745098, 0.56078431, 0.7254902 , 0.69411765, 0.70196078,\n",
       "       0.68627451, 0.69019608, 0.69411765, 0.70196078, 0.70588235,\n",
       "       0.70588235, 0.70588235, 0.70980392, 0.71372549, 0.69411765,\n",
       "       0.69803922, 0.75686275, 0.70196078, 0.59215686, 0.50196078,\n",
       "       0.43137255, 0.31372549, 0.42352941, 0.59607843, 0.58431373,\n",
       "       0.52156863, 0.41568627, 0.25490196, 0.38823529, 0.72941176,\n",
       "       0.69411765, 0.70196078, 0.70196078, 0.68627451, 0.68627451,\n",
       "       0.69411765, 0.69803922, 0.70196078, 0.70588235, 0.70588235,\n",
       "       0.70588235, 0.70980392, 0.6627451 , 0.74117647, 0.73333333,\n",
       "       0.65882353, 0.57254902, 0.47843137, 0.36078431, 0.30980392,\n",
       "       0.45490196, 0.49411765, 0.4745098 , 0.42745098, 0.30980392,\n",
       "       0.2745098 , 0.67058824, 0.71764706, 0.70196078, 0.70588235,\n",
       "       0.70196078, 0.67843137, 0.68235294, 0.69019608, 0.69411765,\n",
       "       0.70196078, 0.70196078, 0.70196078, 0.70196078, 0.68235294,\n",
       "       0.70196078, 0.76862745, 0.69803922, 0.62745098, 0.57647059,\n",
       "       0.44705882, 0.36862745, 0.36078431, 0.47058824, 0.42745098,\n",
       "       0.4       , 0.35686275, 0.25490196, 0.54117647, 0.74117647,\n",
       "       0.70196078, 0.70980392, 0.70980392, 0.70196078])"
      ]
     },
     "execution_count": 9,
     "metadata": {},
     "output_type": "execute_result"
    }
   ],
   "source": [
    "x_train[6]"
   ]
  },
  {
   "cell_type": "code",
   "execution_count": 10,
   "metadata": {},
   "outputs": [
    {
     "data": {
      "text/plain": [
       "8"
      ]
     },
     "execution_count": 10,
     "metadata": {},
     "output_type": "execute_result"
    }
   ],
   "source": [
    "y_train[6]"
   ]
  },
  {
   "cell_type": "markdown",
   "metadata": {},
   "source": [
    "# Building Model"
   ]
  },
  {
   "cell_type": "code",
   "execution_count": 11,
   "metadata": {},
   "outputs": [
    {
     "name": "stdout",
     "output_type": "stream",
     "text": [
      "Epoch 1/10\n",
      "858/858 [==============================] - 3s 2ms/step - loss: 1.9854 - accuracy: 0.4018\n",
      "Epoch 2/10\n",
      "858/858 [==============================] - 2s 2ms/step - loss: 1.0356 - accuracy: 0.6772\n",
      "Epoch 3/10\n",
      "858/858 [==============================] - 2s 2ms/step - loss: 0.7080 - accuracy: 0.7804\n",
      "Epoch 4/10\n",
      "858/858 [==============================] - 2s 2ms/step - loss: 0.5070 - accuracy: 0.8485\n",
      "Epoch 5/10\n",
      "858/858 [==============================] - 2s 2ms/step - loss: 0.3597 - accuracy: 0.8968\n",
      "Epoch 6/10\n",
      "858/858 [==============================] - 2s 2ms/step - loss: 0.2471 - accuracy: 0.9338\n",
      "Epoch 7/10\n",
      "858/858 [==============================] - 2s 2ms/step - loss: 0.1732 - accuracy: 0.9578\n",
      "Epoch 8/10\n",
      "858/858 [==============================] - 2s 2ms/step - loss: 0.1268 - accuracy: 0.9712\n",
      "Epoch 9/10\n",
      "858/858 [==============================] - 2s 2ms/step - loss: 0.1027 - accuracy: 0.9761\n",
      "Epoch 10/10\n",
      "858/858 [==============================] - 2s 2ms/step - loss: 0.0881 - accuracy: 0.9776\n"
     ]
    },
    {
     "data": {
      "text/plain": [
       "<keras.callbacks.History at 0x1c2ef743ee0>"
      ]
     },
     "execution_count": 11,
     "metadata": {},
     "output_type": "execute_result"
    }
   ],
   "source": [
    "model = keras.Sequential([\n",
    "    keras.layers.Dense(100, input_shape=(784, ), activation='sigmoid'),\n",
    "    keras.layers.Dense(50, activation='gelu'),\n",
    "    keras.layers.Dense(25, activation='sigmoid')\n",
    "])\n",
    "\n",
    "model.compile(\n",
    "    optimizer = 'adam',\n",
    "    loss = 'sparse_categorical_crossentropy',\n",
    "    metrics = 'accuracy'\n",
    ")\n",
    "\n",
    "model.fit(x_train, y_train, epochs=10)"
   ]
  },
  {
   "cell_type": "code",
   "execution_count": 12,
   "metadata": {},
   "outputs": [
    {
     "name": "stdout",
     "output_type": "stream",
     "text": [
      "225/225 [==============================] - 1s 2ms/step - loss: 1.0388 - accuracy: 0.7630\n"
     ]
    },
    {
     "data": {
      "text/plain": [
       "[1.0388340950012207, 0.7629671096801758]"
      ]
     },
     "execution_count": 12,
     "metadata": {},
     "output_type": "execute_result"
    }
   ],
   "source": [
    "model.evaluate(x_test, y_test)"
   ]
  },
  {
   "cell_type": "code",
   "execution_count": 13,
   "metadata": {},
   "outputs": [
    {
     "name": "stdout",
     "output_type": "stream",
     "text": [
      "225/225 [==============================] - 0s 1ms/step\n"
     ]
    }
   ],
   "source": [
    "y_predicted = model.predict(x_test)"
   ]
  },
  {
   "cell_type": "code",
   "execution_count": 14,
   "metadata": {},
   "outputs": [
    {
     "data": {
      "text/plain": [
       "array([1.05405712e-15, 8.75775563e-10, 3.84557337e-01, 6.71100046e-04,\n",
       "       6.30516028e-10, 3.10313731e-01, 9.99999642e-01, 6.66458011e-01,\n",
       "       2.86445416e-11, 9.21874835e-06, 2.69981756e-05, 1.00337239e-02,\n",
       "       1.01280784e-04, 9.94654556e-07, 9.24302638e-01, 6.14793462e-05,\n",
       "       9.31481004e-01, 6.03604065e-07, 1.94389920e-03, 6.22889042e-01,\n",
       "       5.79525361e-09, 3.51827115e-01, 1.30016691e-04, 8.66928101e-01,\n",
       "       2.22511809e-12], dtype=float32)"
      ]
     },
     "execution_count": 14,
     "metadata": {},
     "output_type": "execute_result"
    }
   ],
   "source": [
    "y_predicted[0]"
   ]
  },
  {
   "cell_type": "code",
   "execution_count": 15,
   "metadata": {},
   "outputs": [
    {
     "data": {
      "text/plain": [
       "6"
      ]
     },
     "execution_count": 15,
     "metadata": {},
     "output_type": "execute_result"
    }
   ],
   "source": [
    "np.argmax(y_predicted[0])"
   ]
  },
  {
   "cell_type": "code",
   "execution_count": 16,
   "metadata": {},
   "outputs": [],
   "source": [
    "y_predicted_labels = [np.argmax(i) for i in y_predicted]"
   ]
  },
  {
   "cell_type": "code",
   "execution_count": 17,
   "metadata": {},
   "outputs": [
    {
     "data": {
      "text/plain": [
       "<tf.Tensor: shape=(25, 25), dtype=int32, numpy=\n",
       "array([[329,   0,   0,   0,   0,   0,   0,   0,   0,   0,   0,   0,   0,\n",
       "          0,   0,   0,   0,   0,   2,   0,   0,   0,   0,   0,   0],\n",
       "       [  0, 370,   0,  11,   0,   0,   0,   0,   0,   0,   0,   0,   0,\n",
       "          0,   0,   0,   0,  14,   0,   0,  27,   0,  10,   0,   0],\n",
       "       [  0,   0, 288,   0,   0,  21,   0,   0,   0,   0,   0,   0,   0,\n",
       "          0,   0,   0,   0,   0,   0,   0,   0,   1,   0,   0,   0],\n",
       "       [  0,   1,   0, 216,   0,   0,   0,   0,   0,   0,   0,   0,   0,\n",
       "          0,   0,   0,   0,   0,   0,   0,   0,   8,   0,  20,   0],\n",
       "       [  0,   0,   0,   0, 435,   0,   0,   0,   0,   0,   0,   0,   0,\n",
       "          0,   0,   0,   0,   0,  63,   0,   0,   0,   0,   0,   0],\n",
       "       [  0,   0,   0,   0,   0, 246,   0,   0,   0,   0,   0,   0,   0,\n",
       "          0,   0,   0,   0,   0,   0,   1,   0,   0,   0,   0,   0],\n",
       "       [  0,   0,   0,   0,   0,   0, 280,  25,   0,   0,   0,   0,   0,\n",
       "          0,   0,   0,  35,   0,   5,   0,   0,   0,   0,   3,   0],\n",
       "       [  0,   0,   0,   0,  21,   0,  20, 395,   0,   0,   0,   0,   0,\n",
       "          0,   0,   0,   0,   0,   0,   0,   0,   0,   0,   0,   0],\n",
       "       [  0,   0,   0,   0,   0,  18,   0,   0, 225,   0,   0,   0,   0,\n",
       "          0,   0,   0,   0,   0,   0,   0,   0,   0,   3,   0,  42],\n",
       "       [  0,   0,   0,   0,   0,   0,   0,   0,   0,   0,   0,   0,   0,\n",
       "          0,   0,   0,   0,   0,   0,   0,   0,   0,   0,   0,   0],\n",
       "       [  0,   0,   0,   0,   0,  39,   0,   0,   0,   0, 198,   0,   0,\n",
       "          0,   0,   3,   0,  46,   0,   0,   2,  21,   0,   0,  22],\n",
       "       [  0,   0,   2,   0,   0,   0,   0,   0,   0,   0,   0, 187,   0,\n",
       "          0,   0,   0,   0,   0,   0,   0,   0,   0,   0,  20,   0],\n",
       "       [  0,   0,   0,   0,  21,   0,   0,   0,   0,   0,   0,   0, 250,\n",
       "         21,   0,   0,   0,   0, 102,   0,   0,   0,   0,   0,   0],\n",
       "       [ 46,   0,   0,   0,   0,   0,   0,   0,   0,   0,   0,   0,   0,\n",
       "        141,  21,   0,  21,   0,  41,  21,   0,   0,   0,   0,   0],\n",
       "       [  0,   0,   0,   0,   0,  42,   1,   0,   0,   0,   0,   0,   0,\n",
       "          0, 182,   0,   0,   0,   0,  21,   0,   0,   0,   0,   0],\n",
       "       [  0,   0,  20,   0,   0,   0,   0,  15,   0,   0,   0,   0,   0,\n",
       "          0,   0, 312,   0,   0,   0,   0,   0,   0,   0,   0,   0],\n",
       "       [  0,   0,   0,   0,   0,   5,   0,   0,   0,   0,   0,   0,  21,\n",
       "          0,   0,   0, 138,   0,   0,   0,   0,   0,   0,   0,   0],\n",
       "       [  0,   0,   0,   0,   0,   0,   0,   0,   0,   0,   0,  21,   0,\n",
       "          0,   0,   0,   0, 101,   0,   0,  20,   0,   2,   0,   0],\n",
       "       [  0,   0,   0,   0,  21,   0,   0,  20,  21,   0,   0,   0,  41,\n",
       "          4,   0,   0,   0,   0, 139,   0,   0,   0,   0,   0,   0],\n",
       "       [  0,   0,   0,   0,   0,   0,   0,   0,   0,   0,   0,  20,   0,\n",
       "          0,   0,   0,   0,   0,   0, 145,   0,  21,   0,  62,   0],\n",
       "       [  0,   0,   0,  24,   0,   0,   0,   0,   0,   0,  73,   0,   0,\n",
       "          0,   0,   0,   0,  47,   0,   0,  43,  69,   0,   0,  10],\n",
       "       [  0,   0,   0,   0,   0,  20,   0,   0,   0,   0,  19,   0,   0,\n",
       "          0,   0,   4,   0,   0,   0,   5,   0, 254,  28,  16,   0],\n",
       "       [  0,   0,   0,   0,   0,   0,   0,   0,   0,   0,   0,   0,   0,\n",
       "          0,   0,   0,   0,  17,   0,   0,   7,  47, 135,   0,   0],\n",
       "       [  0,   0,   0,   0,   0,   0,   0,   0,   0,   0,   0,   0,   0,\n",
       "          0,   0,   0,   0,   0,   2,   2,   0,   0,  21, 242,   0],\n",
       "       [  0,   0,   0,   0,   0,   0,   0,   0,   0,   0,   0,   0,   0,\n",
       "          0,   0,   0,   0,  50,  20,  21,   0,  19,   0,   0, 222]])>"
      ]
     },
     "execution_count": 17,
     "metadata": {},
     "output_type": "execute_result"
    }
   ],
   "source": [
    "cm = tf.math.confusion_matrix(labels=y_test,predictions=y_predicted_labels)\n",
    "cm"
   ]
  },
  {
   "cell_type": "code",
   "execution_count": 18,
   "metadata": {},
   "outputs": [
    {
     "data": {
      "text/plain": [
       "Text(114.0, 0.5, 'Truth')"
      ]
     },
     "execution_count": 18,
     "metadata": {},
     "output_type": "execute_result"
    },
    {
     "data": {
      "image/png": "[encoded data removed]",
      "text/plain": [
       "<Figure size 1080x720 with 2 Axes>"
      ]
     },
     "metadata": {
      "needs_background": "light"
     },
     "output_type": "display_data"
    }
   ],
   "source": [
    "#Showing Hitmap\n",
    "\n",
    "plt.figure(figsize = (15,10))\n",
    "sn.heatmap(cm, annot=True, fmt='d')\n",
    "plt.xlabel('Predicted')\n",
    "plt.ylabel('Truth')"
   ]
  },
  {
   "cell_type": "code",
   "execution_count": null,
   "metadata": {},
   "outputs": [],
   "source": []
  }
 ],
 "metadata": {
  "kernelspec": {
   "display_name": "Python 3.10.1 64-bit",
   "language": "python",
   "name": "python3"
  },
  "language_info": {
   "codemirror_mode": {
    "name": "ipython",
    "version": 3
   },
   "file_extension": ".py",
   "mimetype": "text/x-python",
   "name": "python",
   "nbconvert_exporter": "python",
   "pygments_lexer": "ipython3",
   "version": "3.10.1"
  },
  "orig_nbformat": 4,
  "vscode": {
   "interpreter": {
    "hash": "369f2c481f4da34e4445cda3fffd2e751bd1c4d706f27375911949ba6bb62e1c"
   }
  }
 },
 "nbformat": 4,
 "nbformat_minor": 2
}
